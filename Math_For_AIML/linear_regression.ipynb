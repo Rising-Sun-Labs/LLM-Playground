{
 "cells": [
  {
   "cell_type": "code",
   "id": "initial_id",
   "metadata": {
    "collapsed": true,
    "ExecuteTime": {
     "end_time": "2025-10-26T10:26:36.632606Z",
     "start_time": "2025-10-26T10:26:34.078178Z"
    }
   },
   "source": [
    "import numpy as np\n",
    "import scipy.linalg\n",
    "import matplotlib.pyplot as plt\n",
    "from sympy.abc import theta\n",
    "%matplotlib inline"
   ],
   "outputs": [],
   "execution_count": 1
  },
  {
   "metadata": {},
   "cell_type": "markdown",
   "source": [
    "consider a linear regression problem of the form\n",
    "<math xmlns=\"http://www.w3.org/1998/Math/MathML\" display=\"block\">\n",
    "  <mi>y</mi>\n",
    "  <mo>=</mo>\n",
    "  <msup>\n",
    "    <mi mathvariant=\"bold-italic\">x</mi>\n",
    "    <mi>T</mi>\n",
    "  </msup>\n",
    "  <mi mathvariant=\"bold-italic\">&#x3B8;</mi>\n",
    "  <mo>+</mo>\n",
    "  <mi>&#x3F5;</mi>\n",
    "  <mstyle>\n",
    "    <mspace width=\"0.167em\"></mspace>\n",
    "  </mstyle>\n",
    "  <mo>,</mo>\n",
    "  <mstyle>\n",
    "    <mspace width=\"1em\"></mspace>\n",
    "  </mstyle>\n",
    "  <mi>&#x3F5;</mi>\n",
    "  <mo>&#x223C;</mo>\n",
    "  <mrow data-mjx-texclass=\"ORD\">\n",
    "    <mi data-mjx-variant=\"-tex-calligraphic\" mathvariant=\"script\">N</mi>\n",
    "  </mrow>\n",
    "  <mo stretchy=\"false\">(</mo>\n",
    "  <mn>0</mn>\n",
    "  <mo>,</mo>\n",
    "  <msup>\n",
    "    <mi>&#x3C3;</mi>\n",
    "    <mn>2</mn>\n",
    "  </msup>\n",
    "  <mo stretchy=\"false\">)</mo>\n",
    "</math>\n",
    "\n",
    "```\n",
    "| Symbol                                        | Meaning                                                                             |\n",
    "| :-------------------------------------------- | :---------------------------------------------------------------------------------- |\n",
    "| ( x )                                         | Input (feature) vector, e.g. ( x = [x_1, x_2, \\dots, x_D]^T )                       |\n",
    "| ( y )                                         | Output (target) value — the number we’re trying to predict                          |\n",
    "| ( \\theta )                                    | Parameter (weight) vector — what the model learns                                   |\n",
    "| ( x^T \\theta )                                | Predicted value (a linear combination of inputs)                                    |\n",
    "| ( \\varepsilon )                               | Random noise, representing things we can’t model exactly                            |\n",
    "| ( \\varepsilon \\sim \\mathcal{N}(0, \\sigma^2) ) | Noise is drawn from a **normal distribution** with mean 0 and variance ( \\sigma^2 ) |\n",
    "```\n",
    "\n",
    "Where <math xmlns=\"http://www.w3.org/1998/Math/MathML\">\n",
    "  <mi mathvariant=\"bold-italic\">x</mi>\n",
    "  <mo>&#x2208;</mo>\n",
    "  <msup>\n",
    "    <mrow data-mjx-texclass=\"ORD\">\n",
    "      <mi mathvariant=\"double-struck\">R</mi>\n",
    "    </mrow>\n",
    "    <mi>D</mi>\n",
    "  </msup>\n",
    "</math> are inputs and <math xmlns=\"http://www.w3.org/1998/Math/MathML\">\n",
    "  <mi>y</mi>\n",
    "  <mo>&#x2208;</mo>\n",
    "  <mrow data-mjx-texclass=\"ORD\">\n",
    "    <mi mathvariant=\"double-struck\">R</mi>\n",
    "  </mrow>\n",
    "</math> are noisy observations. The parameter vector <math xmlns=\"http://www.w3.org/1998/Math/MathML\">\n",
    "  <mi mathvariant=\"bold-italic\">&#x3B8;</mi>\n",
    "  <mo>&#x2208;</mo>\n",
    "  <msup>\n",
    "    <mrow data-mjx-texclass=\"ORD\">\n",
    "      <mi mathvariant=\"double-struck\">R</mi>\n",
    "    </mrow>\n",
    "    <mi>D</mi>\n",
    "  </msup>\n",
    "</math> parametrizes the function.\n",
    "we assume we have a training set <math xmlns=\"http://www.w3.org/1998/Math/MathML\">\n",
    "  <mi>n</mi>\n",
    "  <mo>=</mo>\n",
    "  <mn>1</mn>\n",
    "  <mo>,</mo>\n",
    "  <mo>&#x2026;</mo>\n",
    "  <mo>,</mo>\n",
    "  <mi>N</mi>\n",
    "</math>. We summarize the sets of training inputs in <math xmlns=\"http://www.w3.org/1998/Math/MathML\">\n",
    "  <mrow data-mjx-texclass=\"ORD\">\n",
    "    <mi data-mjx-variant=\"-tex-calligraphic\" mathvariant=\"script\">X</mi>\n",
    "  </mrow>\n",
    "  <mo>=</mo>\n",
    "  <mo fence=\"false\" stretchy=\"false\">{</mo>\n",
    "  <msub>\n",
    "    <mi mathvariant=\"bold-italic\">x</mi>\n",
    "    <mn>1</mn>\n",
    "  </msub>\n",
    "  <mo>,</mo>\n",
    "  <mo>&#x2026;</mo>\n",
    "  <mo>,</mo>\n",
    "  <msub>\n",
    "    <mi mathvariant=\"bold-italic\">x</mi>\n",
    "    <mi>N</mi>\n",
    "  </msub>\n",
    "  <mo fence=\"false\" stretchy=\"false\">}</mo>\n",
    "</math> and corresponding training targets <math xmlns=\"http://www.w3.org/1998/Math/MathML\">\n",
    "  <mrow data-mjx-texclass=\"ORD\">\n",
    "    <mi data-mjx-variant=\"-tex-calligraphic\" mathvariant=\"script\">Y</mi>\n",
    "  </mrow>\n",
    "  <mo>=</mo>\n",
    "  <mo fence=\"false\" stretchy=\"false\">{</mo>\n",
    "  <msub>\n",
    "    <mi>y</mi>\n",
    "    <mn>1</mn>\n",
    "  </msub>\n",
    "  <mo>,</mo>\n",
    "  <mo>&#x2026;</mo>\n",
    "  <mo>,</mo>\n",
    "  <msub>\n",
    "    <mi>y</mi>\n",
    "    <mi>N</mi>\n",
    "  </msub>\n",
    "  <mo fence=\"false\" stretchy=\"false\">}</mo>\n",
    "</math>, respectively.\n"
   ],
   "id": "6692a9673504eb47"
  },
  {
   "metadata": {
    "ExecuteTime": {
     "end_time": "2025-10-26T10:37:40.437248Z",
     "start_time": "2025-10-26T10:37:40.393750Z"
    }
   },
   "cell_type": "code",
   "source": [
    "# Define training set\n",
    "x = np.array([-3,-1,0,1,3]).reshape(-1, 1) # 5x1 vector, N=5, D=1\n",
    "y = np.array([-1.2, -0.7, 0.14, 0.67, 1.67]).reshape(-1, 1) # 5x1 vector\n",
    "\n",
    "# Plot the training set\n",
    "plt.figure()\n",
    "plt.plot(x, y, '+', markersize=10)\n",
    "plt.xlabel('x')\n",
    "plt.ylabel('y')"
   ],
   "id": "6dd57db7710fe2c4",
   "outputs": [
    {
     "data": {
      "text/plain": [
       "Text(0, 0.5, 'y')"
      ]
     },
     "execution_count": 5,
     "metadata": {},
     "output_type": "execute_result"
    },
    {
     "data": {
      "text/plain": [
       "<Figure size 640x480 with 1 Axes>"
      ],
      "image/png": "[encoded data removed]"
     },
     "metadata": {},
     "output_type": "display_data",
     "jetTransient": {
      "display_id": null
     }
    }
   ],
   "execution_count": 5
  },
  {
   "metadata": {},
   "cell_type": "markdown",
   "source": [
    "### 1) Maximum Likelihood\n",
    "Maximum of the parameters, <math xmlns=\"http://www.w3.org/1998/Math/MathML\">\n",
    "  <mi mathvariant=\"bold-italic\">&#x3B8;</mi>\n",
    "</math>. in maximum likelihood estimation, we find the parameters <math xmlns=\"http://www.w3.org/1998/Math/MathML\">\n",
    "  <msup>\n",
    "    <mi mathvariant=\"bold-italic\">&#x3B8;</mi>\n",
    "    <mrow data-mjx-texclass=\"ORD\">\n",
    "      <mrow data-mjx-texclass=\"ORD\">\n",
    "        <mi data-mjx-auto-op=\"false\">ML</mi>\n",
    "      </mrow>\n",
    "    </mrow>\n",
    "  </msup>\n",
    "</math> that maximize the likelihood\n",
    "<math xmlns=\"http://www.w3.org/1998/Math/MathML\" display=\"block\">\n",
    "  <mi>p</mi>\n",
    "  <mo stretchy=\"false\">(</mo>\n",
    "  <mrow data-mjx-texclass=\"ORD\">\n",
    "    <mi data-mjx-variant=\"-tex-calligraphic\" mathvariant=\"script\">Y</mi>\n",
    "  </mrow>\n",
    "  <mo data-mjx-texclass=\"ORD\" stretchy=\"false\">|</mo>\n",
    "  <mrow data-mjx-texclass=\"ORD\">\n",
    "    <mi data-mjx-variant=\"-tex-calligraphic\" mathvariant=\"script\">X</mi>\n",
    "  </mrow>\n",
    "  <mo>,</mo>\n",
    "  <mi mathvariant=\"bold-italic\">&#x3B8;</mi>\n",
    "  <mo stretchy=\"false\">)</mo>\n",
    "  <mo>=</mo>\n",
    "  <munderover>\n",
    "    <mo data-mjx-texclass=\"OP\">&#x220F;</mo>\n",
    "    <mrow data-mjx-texclass=\"ORD\">\n",
    "      <mi>n</mi>\n",
    "      <mo>=</mo>\n",
    "      <mn>1</mn>\n",
    "    </mrow>\n",
    "    <mi>N</mi>\n",
    "  </munderover>\n",
    "  <mi>p</mi>\n",
    "  <mo stretchy=\"false\">(</mo>\n",
    "  <msub>\n",
    "    <mi>y</mi>\n",
    "    <mi>n</mi>\n",
    "  </msub>\n",
    "  <mo data-mjx-texclass=\"ORD\" stretchy=\"false\">|</mo>\n",
    "  <msub>\n",
    "    <mi mathvariant=\"bold-italic\">x</mi>\n",
    "    <mi>n</mi>\n",
    "  </msub>\n",
    "  <mo>,</mo>\n",
    "  <mi mathvariant=\"bold-italic\">&#x3B8;</mi>\n",
    "  <mo stretchy=\"false\">)</mo>\n",
    "  <mstyle>\n",
    "    <mspace width=\"0.167em\"></mspace>\n",
    "  </mstyle>\n",
    "  <mo>.</mo>\n",
    "</math>\n",
    "\n",
    "From the lecture we know that the maximum likelihood estimator is given by\n",
    "<math xmlns=\"http://www.w3.org/1998/Math/MathML\" display=\"block\">\n",
    "  <msup>\n",
    "    <mi mathvariant=\"bold-italic\">&#x3B8;</mi>\n",
    "    <mrow data-mjx-texclass=\"ORD\">\n",
    "      <mtext>ML</mtext>\n",
    "    </mrow>\n",
    "  </msup>\n",
    "  <mo>=</mo>\n",
    "  <mo stretchy=\"false\">(</mo>\n",
    "  <msup>\n",
    "    <mi mathvariant=\"bold-italic\">X</mi>\n",
    "    <mi>T</mi>\n",
    "  </msup>\n",
    "  <mi mathvariant=\"bold-italic\">X</mi>\n",
    "  <msup>\n",
    "    <mo stretchy=\"false\">)</mo>\n",
    "    <mrow data-mjx-texclass=\"ORD\">\n",
    "      <mo>&#x2212;</mo>\n",
    "      <mn>1</mn>\n",
    "    </mrow>\n",
    "  </msup>\n",
    "  <msup>\n",
    "    <mi mathvariant=\"bold-italic\">X</mi>\n",
    "    <mi>T</mi>\n",
    "  </msup>\n",
    "  <mi mathvariant=\"bold-italic\">y</mi>\n",
    "  <mo>&#x2208;</mo>\n",
    "  <msup>\n",
    "    <mrow data-mjx-texclass=\"ORD\">\n",
    "      <mi mathvariant=\"double-struck\">R</mi>\n",
    "    </mrow>\n",
    "    <mi>D</mi>\n",
    "  </msup>\n",
    "  <mstyle>\n",
    "    <mspace width=\"0.167em\"></mspace>\n",
    "  </mstyle>\n",
    "  <mo>,</mo>\n",
    "</math>\n",
    "Where\n",
    "<math xmlns=\"http://www.w3.org/1998/Math/MathML\" display=\"block\">\n",
    "  <mi mathvariant=\"bold-italic\">X</mi>\n",
    "  <mo>=</mo>\n",
    "  <mo stretchy=\"false\">[</mo>\n",
    "  <msub>\n",
    "    <mi mathvariant=\"bold-italic\">x</mi>\n",
    "    <mn>1</mn>\n",
    "  </msub>\n",
    "  <mo>,</mo>\n",
    "  <mo>&#x2026;</mo>\n",
    "  <mo>,</mo>\n",
    "  <msub>\n",
    "    <mi mathvariant=\"bold-italic\">x</mi>\n",
    "    <mi>N</mi>\n",
    "  </msub>\n",
    "  <msup>\n",
    "    <mo stretchy=\"false\">]</mo>\n",
    "    <mi>T</mi>\n",
    "  </msup>\n",
    "  <mo>&#x2208;</mo>\n",
    "  <msup>\n",
    "    <mrow data-mjx-texclass=\"ORD\">\n",
    "      <mi mathvariant=\"double-struck\">R</mi>\n",
    "    </mrow>\n",
    "    <mrow data-mjx-texclass=\"ORD\">\n",
    "      <mi>N</mi>\n",
    "      <mo>&#xD7;</mo>\n",
    "      <mi>D</mi>\n",
    "    </mrow>\n",
    "  </msup>\n",
    "  <mstyle>\n",
    "    <mspace width=\"0.167em\"></mspace>\n",
    "  </mstyle>\n",
    "  <mo>,</mo>\n",
    "  <mstyle>\n",
    "    <mspace width=\"1em\"></mspace>\n",
    "  </mstyle>\n",
    "  <mi mathvariant=\"bold-italic\">y</mi>\n",
    "  <mo>=</mo>\n",
    "  <mo stretchy=\"false\">[</mo>\n",
    "  <msub>\n",
    "    <mi>y</mi>\n",
    "    <mn>1</mn>\n",
    "  </msub>\n",
    "  <mo>,</mo>\n",
    "  <mo>&#x2026;</mo>\n",
    "  <mo>,</mo>\n",
    "  <msub>\n",
    "    <mi>y</mi>\n",
    "    <mi>N</mi>\n",
    "  </msub>\n",
    "  <msup>\n",
    "    <mo stretchy=\"false\">]</mo>\n",
    "    <mi>T</mi>\n",
    "  </msup>\n",
    "  <mo>&#x2208;</mo>\n",
    "  <msup>\n",
    "    <mrow data-mjx-texclass=\"ORD\">\n",
    "      <mi mathvariant=\"double-struck\">R</mi>\n",
    "    </mrow>\n",
    "    <mi>N</mi>\n",
    "  </msup>\n",
    "  <mstyle>\n",
    "    <mspace width=\"0.167em\"></mspace>\n",
    "  </mstyle>\n",
    "  <mo>.</mo>\n",
    "</math>\n",
    "Compute the maximum likelihood estimate for a given training set.\n"
   ],
   "id": "d9c2eb9cd29c0c2d"
  },
  {
   "metadata": {
    "ExecuteTime": {
     "end_time": "2025-10-26T10:48:23.255690Z",
     "start_time": "2025-10-26T10:48:23.250119Z"
    }
   },
   "cell_type": "code",
   "source": [
    "def max_lik_estimate(x, y):\n",
    "    # x: N * D matrix of training inputs\n",
    "    # y: N * 1 vector of training targets/observations\n",
    "    # returns: maximum likelihood parameters (D * 1)\n",
    "    N, D = x.shape\n",
    "    theta_ml = np.linalg.solve(x.T @ x, x.T @ y)\n",
    "    return theta_ml"
   ],
   "id": "8bfe93cc57d97ecc",
   "outputs": [],
   "execution_count": 6
  },
  {
   "metadata": {},
   "cell_type": "markdown",
   "source": [
    "\n",
    "```\n",
    "np.linalg.solve(x.T @ x, x.T @ y)\n",
    "this in math is\n",
    "```\n",
    "\n",
    "| Part                    | Meaning                                          |\n",
    "| ----------------------- | ------------------------------------------------ |\n",
    "| `X.T @ X`               | computes ( X^T X ) (a D×D matrix)                |\n",
    "| `X.T @ y`               | computes ( X^T y ) (a D×1 vector)                |\n",
    "| `np.linalg.solve(A, b)` | finds θ such that ( Aθ = b )                     |\n",
    "| `theta_ml`              | is your best-fit weight vector ( θ_{\\text{ML}} ) |\n"
   ],
   "id": "fecbd385d0ed0c6b"
  },
  {
   "metadata": {
    "ExecuteTime": {
     "end_time": "2025-10-26T10:53:11.773549Z",
     "start_time": "2025-10-26T10:53:11.769683Z"
    }
   },
   "cell_type": "code",
   "source": [
    "# get maximum likelihood estimate\n",
    "theta_ml = max_lik_estimate(x, y)\n"
   ],
   "id": "372e0b1440f190e5",
   "outputs": [],
   "execution_count": 8
  },
  {
   "metadata": {
    "ExecuteTime": {
     "end_time": "2025-10-26T10:53:13.208906Z",
     "start_time": "2025-10-26T10:53:13.206195Z"
    }
   },
   "cell_type": "code",
   "source": [
    "# prediction using the maximum likelihood estimate that we just found\n",
    "def predict_with_estimate(xtest, theta):\n",
    "    # xtest:k * D matrix of text inputs\n",
    "    # theta:D * 1 vector of parameters\n",
    "    # returns: prediction of f(xtest); k * 1 vector\n",
    "    prediction = xtest @ theta\n",
    "    return prediction"
   ],
   "id": "8dfee1f902686c8b",
   "outputs": [],
   "execution_count": 9
  },
  {
   "metadata": {
    "ExecuteTime": {
     "end_time": "2025-10-26T10:55:49.981646Z",
     "start_time": "2025-10-26T10:55:49.833146Z"
    }
   },
   "cell_type": "code",
   "source": [
    "# define a test set\n",
    "xtest = np.linspace(-5, 5, 100).reshape(-1,1) # 100 * 1 vector of test inputs\n",
    "\n",
    "# predict the function values at the test points using the maximum likelihood estimator\n",
    "ml_prediction = predict_with_estimate(xtest, theta_ml)\n",
    "\n",
    "# plot\n",
    "plt.figure()\n",
    "plt.plot(x, y, '+', markersize=10)\n",
    "plt.plot(xtest, ml_prediction)\n",
    "plt.xlabel(\"$x$\")\n",
    "plt.ylabel(\"$y$\")"
   ],
   "id": "c4c2b2157fc9abe3",
   "outputs": [
    {
     "data": {
      "text/plain": [
       "Text(0, 0.5, '$y$')"
      ]
     },
     "execution_count": 10,
     "metadata": {},
     "output_type": "execute_result"
    },
    {
     "data": {
      "text/plain": [
       "<Figure size 640x480 with 1 Axes>"
      ],
      "image/png": "[encoded data removed]"
     },
     "metadata": {},
     "output_type": "display_data",
     "jetTransient": {
      "display_id": null
     }
    }
   ],
   "execution_count": 10
  },
  {
   "metadata": {},
   "cell_type": "markdown",
   "source": [
    "Questions\n",
    "1) Does the solution above look reasonable?\n",
    "2) Play around with different values of theta. How do the corresponding functions change?\n",
    "3) Modify the training targets <math xmlns=\"http://www.w3.org/1998/Math/MathML\">\n",
    "  <mrow data-mjx-texclass=\"ORD\">\n",
    "    <mi data-mjx-variant=\"-tex-calligraphic\" mathvariant=\"script\">Y</mi>\n",
    "  </mrow>\n",
    "</math> and re-run your computation. What changes?\n",
    "\n",
    "- Let us now look at a different training set, where we add 2.0 to every\n",
    "-value, and compute the maximum likelihood estimate"
   ],
   "id": "7b3afab98835beac"
  },
  {
   "metadata": {
    "ExecuteTime": {
     "end_time": "2025-10-26T11:07:49.002718Z",
     "start_time": "2025-10-26T11:07:48.955682Z"
    }
   },
   "cell_type": "code",
   "source": [
    "ynew  = y+2.0\n",
    "plt.figure()\n",
    "plt.plot(x, ynew, '+', markersize=10)\n",
    "plt.xlabel(\"$x$\")\n",
    "plt.ylabel(\"$y$\")"
   ],
   "id": "724e80f77bd8d4",
   "outputs": [
    {
     "data": {
      "text/plain": [
       "Text(0, 0.5, '$y$')"
      ]
     },
     "execution_count": 15,
     "metadata": {},
     "output_type": "execute_result"
    },
    {
     "data": {
      "text/plain": [
       "<Figure size 640x480 with 1 Axes>"
      ],
      "image/png": "[encoded data removed]"
     },
     "metadata": {},
     "output_type": "display_data",
     "jetTransient": {
      "display_id": null
     }
    }
   ],
   "execution_count": 15
  },
  {
   "metadata": {
    "ExecuteTime": {
     "end_time": "2025-10-26T11:15:42.084005Z",
     "start_time": "2025-10-26T11:15:42.026303Z"
    }
   },
   "cell_type": "code",
   "source": [
    "# get maximum likelihood estimate\n",
    "theta_ml = max_lik_estimate(x, ynew)\n",
    "print(theta_ml)\n",
    "\n",
    "# define a test set\n",
    "xtest = np.linspace(-5, 5, 100).reshape(-1,1)  # 100 x 1 vector of test inputs\n",
    "\n",
    "# predict the function values at the test points using the maximum likelihood estimation\n",
    "ml_prediction = predict_with_estimate(xtest, theta_ml)\n",
    "\n",
    "# plot\n",
    "plt.figure()\n",
    "plt.plot(x, ynew, '+', markersize=10)\n",
    "plt.plot(xtest, ml_prediction)\n",
    "plt.xlabel(\"$x$\")\n",
    "plt.ylabel(\"$y$\")"
   ],
   "id": "1329fde79038c321",
   "outputs": [
    {
     "name": "stdout",
     "output_type": "stream",
     "text": [
      "[[0.499]]\n"
     ]
    },
    {
     "data": {
      "text/plain": [
       "Text(0, 0.5, '$y$')"
      ]
     },
     "execution_count": 16,
     "metadata": {},
     "output_type": "execute_result"
    },
    {
     "data": {
      "text/plain": [
       "<Figure size 640x480 with 1 Axes>"
      ],
      "image/png": "[encoded data removed]"
     },
     "metadata": {},
     "output_type": "display_data",
     "jetTransient": {
      "display_id": null
     }
    }
   ],
   "execution_count": 16
  }
 ],
 "metadata": {
  "kernelspec": {
   "display_name": "Python 3",
   "language": "python",
   "name": "python3"
  },
  "language_info": {
   "codemirror_mode": {
    "name": "ipython",
    "version": 2
   },
   "file_extension": ".py",
   "mimetype": "text/x-python",
   "name": "python",
   "nbconvert_exporter": "python",
   "pygments_lexer": "ipython2",
   "version": "2.7.6"
  }
 },
 "nbformat": 4,
 "nbformat_minor": 5
}
